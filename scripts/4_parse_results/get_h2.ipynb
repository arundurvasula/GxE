{
 "cells": [
  {
   "cell_type": "code",
   "execution_count": 1,
   "metadata": {},
   "outputs": [],
   "source": [
    "import pandas as pd\n",
    "import numpy as np\n",
    "from scipy.stats import norm"
   ]
  },
  {
   "cell_type": "code",
   "execution_count": 2,
   "metadata": {},
   "outputs": [],
   "source": [
    "def parse_h2(file):\n",
    "    h2 = np.nan\n",
    "    se = np.nan\n",
    "    with open(file) as file:\n",
    "        for line in file:\n",
    "            if \"h2g (1,1):\" in line:\n",
    "                h2 = float(line.split()[2])\n",
    "                se = float(line.split()[3][1:-1])\n",
    "    return(np.array([h2, se]))"
   ]
  },
  {
   "cell_type": "code",
   "execution_count": 3,
   "metadata": {},
   "outputs": [],
   "source": [
    "# need to keep this outside of a function\n",
    "data = pd.read_csv(\"/Users/arun/Documents/pricelab/ps_gxe/newE/337K-pheno-cov-newE-dietpc.tab\", sep=\"\\t\")"
   ]
  },
  {
   "cell_type": "code",
   "execution_count": 4,
   "metadata": {},
   "outputs": [],
   "source": [
    "def get_bin_prev(trait, E_var, bin, nbins, data):\n",
    "    if E_var == 'cov_SEX':\n",
    "        iid_to_keep = data.loc[data['cov_SEX'] == int(bin)]['IID']\n",
    "    else:\n",
    "        iid_to_keep = pd.read_csv(\"/Users/arun/Documents/pricelab/ps_gxe/2023_05_10_tables/data/bins_newE/337K_\"+str(nbins)+\"bin_\"+E_var+\"_\"+str(bin), header=None)[0]\n",
    "    prevalence = data[data['IID'].isin(iid_to_keep)][trait].mean()\n",
    "    return(prevalence)"
   ]
  },
  {
   "cell_type": "code",
   "execution_count": 5,
   "metadata": {},
   "outputs": [],
   "source": [
    "def obs2liab(h2, se, trait, E_var, b, nbins, data):\n",
    "    prev = get_bin_prev(trait, E_var, b, nbins, data)\n",
    "    T= norm.ppf(1-prev)\n",
    "    z = np.exp(-T*T/2) / np.sqrt(2*3.1415927)\n",
    "    h2l = h2*(prev*(1-prev)/np.square(z))\n",
    "    sel = se**2*(prev*(1-prev)/np.square(z))**2\n",
    "    return(h2l, sel)"
   ]
  },
  {
   "cell_type": "code",
   "execution_count": 6,
   "metadata": {},
   "outputs": [],
   "source": [
    "def get_h2s(trait, E_var, nbins, data):\n",
    "    newE_5bin = ['cov_ParticulateMatterAirPollution_irnt', 'cov_DIET']\n",
    "    oldE_5bin = ['cov_ALCOHOL_DESC_ORDER', 'cov_PHYS2_DAYS_VERY_ACTIVE', 'cov_TOWNSEND_DEPRIVATION',\n",
    "             'other_NAP_TIME', 'other_NO_WHEAT', 'other_TIME_TV']\n",
    "    if nbins==5:\n",
    "        if E_var in newE_5bin:\n",
    "            dir='h2_newE_5bin/'\n",
    "        elif E_var in oldE_5bin:\n",
    "            dir='reml_337K/'\n",
    "        else:\n",
    "            return({'h2':[np.nan] * nbins,\n",
    "                'se':[np.nan] * nbins})\n",
    "    elif nbins==2:\n",
    "        if E_var == \"cov_SEX\":\n",
    "            dir='reml_337K_sex2/'\n",
    "        else:\n",
    "            dir='h2_newE/'\n",
    "    else:\n",
    "        return({'h2':[np.nan] * nbins,\n",
    "                'se':[np.nan] * nbins})\n",
    "\n",
    "    h2s = [np.nan] * nbins\n",
    "    ses = [np.nan] * nbins\n",
    "    for b in range(0,nbins):\n",
    "        bin=str(b)\n",
    "        if E_var == 'cov_SEX':\n",
    "            file = \"/Users/arun/Documents/pricelab/ps_gxe/2023_05_10_tables/data/\"+dir+trait+\"_\"+bin+\".log\"\n",
    "        else:\n",
    "            file=\"/Users/arun/Documents/pricelab/ps_gxe/2023_05_10_tables/data/\"+dir+trait+\"_\"+E_var+\"_\"+bin+\".log\"\n",
    "        try:\n",
    "            out = parse_h2(file)\n",
    "            if 'disease' in trait:\n",
    "                curr_h2, curr_se = obs2liab(out[0], out[1], trait, E_var, bin, nbins, data)\n",
    "                h2s[b] = curr_h2\n",
    "                ses[b] = curr_se   \n",
    "            else:\n",
    "                h2s[b] = out[0]\n",
    "                ses[b] = out[1]\n",
    "        except FileNotFoundError:\n",
    "            continue\n",
    "    return({'h2':h2s, \"se\":ses})"
   ]
  },
  {
   "cell_type": "code",
   "execution_count": 7,
   "metadata": {},
   "outputs": [],
   "source": [
    "def get_Z(d):\n",
    "    return((d['h2'][-1] - d['h2'][0]) / (np.sqrt(d['se'][-1]**2 + d['se'][0]**2)))"
   ]
  },
  {
   "cell_type": "code",
   "execution_count": 8,
   "metadata": {},
   "outputs": [],
   "source": [
    "traits = list(pd.read_csv(\"/Users/arun/Documents/pricelab/ps_gxe/2023_05_10_tables/data/data_update/traits.txt\", header=None)[0])\n",
    "E_vars = list(pd.read_csv(\"/Users/arun/Documents/pricelab/ps_gxe/2023_05_10_tables/data/data_update/E.txt\", header=None)[0])"
   ]
  },
  {
   "attachments": {},
   "cell_type": "markdown",
   "metadata": {},
   "source": [
    "# Output Z scores for 5 bin and 2 bin tests"
   ]
  },
  {
   "cell_type": "code",
   "execution_count": 10,
   "metadata": {},
   "outputs": [],
   "source": [
    "with open(\"/Users/arun/Documents/pricelab/ps_gxe/2023_05_10_tables/parsed/h2_Z-scores.csv\", 'w') as f:\n",
    "    for t in traits:\n",
    "        for e in E_vars:\n",
    "            print(t, e, get_Z(get_h2s(t, e, 5, data)), get_Z(get_h2s(t, e, 2, data)), sep=',', file=f)\n",
    "\n"
   ]
  },
  {
   "cell_type": "code",
   "execution_count": 14,
   "metadata": {},
   "outputs": [],
   "source": [
    "with open(\"/Users/arun/Documents/pricelab/ps_gxe/2023_05_10_tables/parsed/h2_values.csv\", 'w') as f:\n",
    "    for t in traits:\n",
    "        for e in E_vars:\n",
    "            d5 = get_h2s(t, e, 5, data)\n",
    "            d2 = get_h2s(t, e, 2, data)\n",
    "            print(t, e, *d5['h2'], *d5['se'], *d2['h2'], *d2['se'], sep=',', file=f)\n",
    "\n"
   ]
  },
  {
   "cell_type": "code",
   "execution_count": 11,
   "metadata": {},
   "outputs": [],
   "source": [
    "with open(\"/Users/arun/Documents/pricelab/ps_gxe/2023_05_10_tables/parsed/sex_h2_Z-scores.csv\", 'w') as f:\n",
    "    for t in traits:\n",
    "        e='cov_SEX'\n",
    "        print(t, e, get_Z(get_h2s(t, e, 2, data)), sep=',', file=f)"
   ]
  },
  {
   "cell_type": "code",
   "execution_count": 16,
   "metadata": {},
   "outputs": [],
   "source": [
    "with open(\"/Users/arun/Documents/pricelab/ps_gxe/2023_05_10_tables/parsed/sex_h2_values.csv\", 'w') as f:\n",
    "    for t in traits:\n",
    "        e='cov_SEX'\n",
    "        d2 = get_h2s(t, e, 2, data)\n",
    "        print(t, e, *d2['h2'], *d2['se'], sep=',', file=f)"
   ]
  },
  {
   "cell_type": "code",
   "execution_count": 17,
   "metadata": {},
   "outputs": [
    {
     "name": "stdout",
     "output_type": "stream",
     "text": [
      "body_BMIz cov_ALCOHOL_DESC_ORDER 0 -0.17109267763460997\n",
      "body_BMIz cov_ALCOHOL_DESC_ORDER 1 -0.1019906368432786\n",
      "body_BMIz cov_ALCOHOL_DESC_ORDER 2 -0.01227704379616282\n",
      "body_BMIz cov_ALCOHOL_DESC_ORDER 3 0.07243687371770093\n",
      "body_BMIz cov_ALCOHOL_DESC_ORDER 4 0.16940570874944105\n",
      "body_BMIz cov_TOWNSEND_DEPRIVATION 0 -0.09813356714022468\n",
      "body_BMIz cov_TOWNSEND_DEPRIVATION 1 -0.05623489713402307\n",
      "body_BMIz cov_TOWNSEND_DEPRIVATION 2 -0.01979241914849305\n",
      "body_BMIz cov_TOWNSEND_DEPRIVATION 3 0.017242897748411392\n",
      "body_BMIz cov_TOWNSEND_DEPRIVATION 4 0.11279494252188045\n",
      "body_BMIz cov_SMOKING_STATUS 0 -0.06611222013144617\n",
      "body_BMIz cov_SMOKING_STATUS 1 0.05835944873338994\n"
     ]
    }
   ],
   "source": [
    "b=[5,5,2]\n",
    "for jdx,E in enumerate([\"cov_ALCOHOL_DESC_ORDER\", \"cov_TOWNSEND_DEPRIVATION\", 'cov_SMOKING_STATUS']):\n",
    "    for i in range(0,b[jdx]):\n",
    "        print(\"body_BMIz\", E, i, get_bin_prev(\"body_BMIz\", E, i, b[jdx], data))"
   ]
  },
  {
   "cell_type": "code",
   "execution_count": 18,
   "metadata": {},
   "outputs": [
    {
     "name": "stdout",
     "output_type": "stream",
     "text": [
      "0.03155850701135454\n",
      "0.02943923155601014\n",
      "0.03640621989001053\n",
      "0.04245415869910022\n",
      "0.06864707015905486\n"
     ]
    }
   ],
   "source": [
    "for i in range(0,5):\n",
    "    print(get_bin_prev(\"disease_T2D\", \"cov_ALCOHOL_DESC_ORDER\", i, 5, data))"
   ]
  },
  {
   "cell_type": "code",
   "execution_count": 19,
   "metadata": {},
   "outputs": [
    {
     "name": "stdout",
     "output_type": "stream",
     "text": [
      "-0.10671002331335461\n",
      "0.13556158804177973\n"
     ]
    }
   ],
   "source": [
    "print(get_bin_prev(\"blood_WHITE_COUNT\", 'cov_SMOKING_STATUS', 0, 2, data))\n",
    "print(get_bin_prev(\"blood_WHITE_COUNT\", 'cov_SMOKING_STATUS', 1, 2, data))"
   ]
  },
  {
   "cell_type": "code",
   "execution_count": 20,
   "metadata": {},
   "outputs": [
    {
     "name": "stdout",
     "output_type": "stream",
     "text": [
      "1.8613741997736173\n",
      "1.7682608421793664\n",
      "1.72152193436322\n",
      "1.649436796018066\n",
      "1.5585922531971665\n"
     ]
    }
   ],
   "source": [
    "for i in range(0,5):\n",
    "    print(get_bin_prev(\"biochemistry_Triglycerides\", \"cov_DIET\", i, 5, data))"
   ]
  },
  {
   "cell_type": "code",
   "execution_count": 21,
   "metadata": {},
   "outputs": [
    {
     "name": "stdout",
     "output_type": "stream",
     "text": [
      "-0.09907324179354242\n",
      "-0.062371810576635794\n",
      "-0.03472445533606288\n",
      "-0.0016038167254468288\n",
      "0.09357867951922645\n"
     ]
    }
   ],
   "source": [
    "for i in range(0,5):\n",
    "    print(get_bin_prev(\"body_WHRadjBMIz\", \"other_TIME_TV\", i, 5, data))"
   ]
  },
  {
   "cell_type": "code",
   "execution_count": 22,
   "metadata": {},
   "outputs": [
    {
     "name": "stdout",
     "output_type": "stream",
     "text": [
      "0.11646541022457962\n",
      "0.30614084507042255\n"
     ]
    }
   ],
   "source": [
    "print(get_bin_prev(\"disease_AID_ALL\", \"other_NO_WHEAT\", 0, 2, data))\n",
    "print(get_bin_prev(\"disease_AID_ALL\", \"other_NO_WHEAT\", 1, 2, data))"
   ]
  },
  {
   "cell_type": "code",
   "execution_count": 23,
   "metadata": {},
   "outputs": [
    {
     "data": {
      "text/html": [
       "<div>\n",
       "<style scoped>\n",
       "    .dataframe tbody tr th:only-of-type {\n",
       "        vertical-align: middle;\n",
       "    }\n",
       "\n",
       "    .dataframe tbody tr th {\n",
       "        vertical-align: top;\n",
       "    }\n",
       "\n",
       "    .dataframe thead th {\n",
       "        text-align: right;\n",
       "    }\n",
       "</style>\n",
       "<table border=\"1\" class=\"dataframe\">\n",
       "  <thead>\n",
       "    <tr style=\"text-align: right;\">\n",
       "      <th></th>\n",
       "      <th>smoking</th>\n",
       "      <th>whitecount</th>\n",
       "    </tr>\n",
       "  </thead>\n",
       "  <tbody>\n",
       "    <tr>\n",
       "      <th>smoking</th>\n",
       "      <td>1.000000</td>\n",
       "      <td>0.190009</td>\n",
       "    </tr>\n",
       "    <tr>\n",
       "      <th>whitecount</th>\n",
       "      <td>0.190009</td>\n",
       "      <td>1.000000</td>\n",
       "    </tr>\n",
       "  </tbody>\n",
       "</table>\n",
       "</div>"
      ],
      "text/plain": [
       "             smoking  whitecount\n",
       "smoking     1.000000    0.190009\n",
       "whitecount  0.190009    1.000000"
      ]
     },
     "execution_count": 23,
     "metadata": {},
     "output_type": "execute_result"
    }
   ],
   "source": [
    "pd.DataFrame({'smoking':data['cov_SMOKING_STATUS'], 'whitecount':data['blood_WHITE_COUNT']}).corr()"
   ]
  },
  {
   "cell_type": "code",
   "execution_count": 24,
   "metadata": {},
   "outputs": [
    {
     "data": {
      "text/plain": [
       "0         NaN\n",
       "1         NaN\n",
       "2         NaN\n",
       "3         1.0\n",
       "4         0.0\n",
       "         ... \n",
       "337540    2.0\n",
       "337541    0.0\n",
       "337542    0.0\n",
       "337543    0.0\n",
       "337544    2.0\n",
       "Name: cov_SMOKING_STATUS, Length: 337545, dtype: float64"
      ]
     },
     "execution_count": 24,
     "metadata": {},
     "output_type": "execute_result"
    }
   ],
   "source": [
    "data['cov_SMOKING_STATUS']"
   ]
  },
  {
   "cell_type": "code",
   "execution_count": 9,
   "metadata": {},
   "outputs": [
    {
     "data": {
      "text/plain": [
       "27.098839588215583"
      ]
     },
     "execution_count": 9,
     "metadata": {},
     "output_type": "execute_result"
    }
   ],
   "source": [
    "get_Z(get_h2s('disease_T2D', 'cov_ALCOHOL_DESC_ORDER', 5, data))"
   ]
  },
  {
   "cell_type": "code",
   "execution_count": null,
   "metadata": {},
   "outputs": [],
   "source": []
  }
 ],
 "metadata": {
  "kernelspec": {
   "display_name": "py39",
   "language": "python",
   "name": "python3"
  },
  "language_info": {
   "codemirror_mode": {
    "name": "ipython",
    "version": 3
   },
   "file_extension": ".py",
   "mimetype": "text/x-python",
   "name": "python",
   "nbconvert_exporter": "python",
   "pygments_lexer": "ipython3",
   "version": "3.9.7"
  },
  "orig_nbformat": 4
 },
 "nbformat": 4,
 "nbformat_minor": 2
}
