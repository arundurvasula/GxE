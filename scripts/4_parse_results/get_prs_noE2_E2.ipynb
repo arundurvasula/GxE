{
 "cells": [
  {
   "cell_type": "code",
   "execution_count": 5,
   "metadata": {},
   "outputs": [],
   "source": [
    "import pandas as pd\n",
    "import numpy as np"
   ]
  },
  {
   "cell_type": "code",
   "execution_count": 32,
   "metadata": {},
   "outputs": [],
   "source": [
    "def get_var(file, trait, e):\n",
    "    with open(file) as f:\n",
    "        current_e_flag=False\n",
    "        model_PRSxE=np.nan\n",
    "        model_PRS=np.nan\n",
    "        model_E=np.nan\n",
    "        model_PRSxE_pval = np.nan\n",
    "        all_VE = np.nan\n",
    "        for line in f:\n",
    "            l = line.rstrip().split()\n",
    "            if trait in line and e in line:\n",
    "                current_e_flag=True\n",
    "                all_VE = 0\n",
    "                continue\n",
    "            if current_e_flag:\n",
    "                try:\n",
    "                    all_VE += float(l[-1])\n",
    "                except (IndexError, ValueError):\n",
    "                    continue\n",
    "                if l[0] == 'SCORE1_AVG':\n",
    "                    model_PRS = float(l[-1])\n",
    "                if l[0] == 'VAR':\n",
    "                    model_E = float(l[-1])\n",
    "                if l[0] == 'SCORE1_AVG:VAR':\n",
    "                    model_PRSxE_beta = float(l[-4])\n",
    "                    model_PRSxE_pval = float(l[-2])\n",
    "                if l[0] == 'PC10_49K':\n",
    "                    current_e_flag=False\n",
    "        return(model_PRSxE_pval, model_PRSxE_beta)"
   ]
  },
  {
   "cell_type": "code",
   "execution_count": 33,
   "metadata": {},
   "outputs": [],
   "source": [
    "def compute_PRSxE_VE(trait, e):\n",
    "    file='/Users/arun/Documents/pricelab/ps_gxe/2023_05_10_tables/data/regression_update/'+trait+'.txt'\n",
    "    interaction = get_var(file, trait, e)\n",
    "    file='/Users/arun/Documents/pricelab/ps_gxe/2023_05_10_tables/data/regression_update/'+trait+'_noE2.txt'\n",
    "    no_E2 = get_var(file, trait, e)\n",
    "    return([*interaction, *no_E2])"
   ]
  },
  {
   "cell_type": "code",
   "execution_count": 34,
   "metadata": {},
   "outputs": [],
   "source": [
    "traits = list(pd.read_csv(\"/Users/arun/Documents/pricelab/ps_gxe/2023_05_10_tables/data/data_update/traits.txt\", header=None)[0])\n",
    "E_vars = list(pd.read_csv(\"/Users/arun/Documents/pricelab/ps_gxe/2023_05_10_tables/data/data_update/E.txt\", header=None)[0])"
   ]
  },
  {
   "cell_type": "code",
   "execution_count": 37,
   "metadata": {},
   "outputs": [],
   "source": [
    "with open(\"/Users/arun/Documents/pricelab/ps_gxe/2023_05_10_tables/parsed/PRS_noE2_E2.csv\", 'w') as f:\n",
    "    for t in traits:\n",
    "        for e in E_vars:\n",
    "            print(t, e, *compute_PRSxE_VE(t, e), sep=',', file=f)"
   ]
  }
 ],
 "metadata": {
  "kernelspec": {
   "display_name": "py39",
   "language": "python",
   "name": "python3"
  },
  "language_info": {
   "codemirror_mode": {
    "name": "ipython",
    "version": 3
   },
   "file_extension": ".py",
   "mimetype": "text/x-python",
   "name": "python",
   "nbconvert_exporter": "python",
   "pygments_lexer": "ipython3",
   "version": "3.9.7"
  },
  "orig_nbformat": 4
 },
 "nbformat": 4,
 "nbformat_minor": 2
}
