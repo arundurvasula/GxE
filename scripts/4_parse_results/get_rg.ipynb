{
 "cells": [
  {
   "cell_type": "code",
   "execution_count": 1,
   "metadata": {},
   "outputs": [],
   "source": [
    "import pandas as pd\n",
    "import numpy as np"
   ]
  },
  {
   "cell_type": "code",
   "execution_count": 2,
   "metadata": {},
   "outputs": [],
   "source": [
    "def parse_rg(file):\n",
    "    rg = np.nan\n",
    "    se = np.nan\n",
    "    with open(file) as f:\n",
    "        for line in f:\n",
    "            if '1        NA' in line:\n",
    "                rg = float(line.rstrip().split()[2])\n",
    "                se = float(line.rstrip().split()[3])\n",
    "    return(np.array([rg, se]))"
   ]
  },
  {
   "cell_type": "code",
   "execution_count": 15,
   "metadata": {},
   "outputs": [],
   "source": [
    "def get_rgs(trait, E_var, nbins):\n",
    "    newE_5bin = ['cov_ParticulateMatterAirPollution_irnt', 'cov_DIET']\n",
    "    oldE_5bin = ['cov_ALCOHOL_DESC_ORDER', 'cov_PHYS2_DAYS_VERY_ACTIVE', 'cov_TOWNSEND_DEPRIVATION',\n",
    "             'other_NAP_TIME', 'other_NO_WHEAT', 'other_TIME_TV']\n",
    "    if nbins==5:\n",
    "        if E_var in oldE_5bin:\n",
    "            dir='rg_imputed2/'\n",
    "            file_ending=\"_0_4_intercept.log\"\n",
    "        else:\n",
    "            return({'rg':np.nan,\n",
    "                    'se':np.nan})\n",
    "    elif nbins==2:\n",
    "        file_ending='_0_1_intercept.log'\n",
    "        if E_var == \"cov_SEX\":\n",
    "            dir='rg_imputed_sex/'\n",
    "        else:\n",
    "            dir='rg_imputed_2bin/'\n",
    "    else:\n",
    "        return({'rg':np.nan,\n",
    "                'se':np.nan})\n",
    "\n",
    "    rgs = np.nan\n",
    "    ses = np.nan\n",
    "    if E_var == 'cov_SEX':\n",
    "        file=\"/Users/arun/Documents/pricelab/ps_gxe/2023_05_10_tables/data/\"+dir+trait+file_ending\n",
    "    else:\n",
    "        file=\"/Users/arun/Documents/pricelab/ps_gxe/2023_05_10_tables/data/\"+dir+trait+\"_\"+E_var+file_ending\n",
    "    try:\n",
    "        out = parse_rg(file)\n",
    "        rgs = out[0]\n",
    "        ses = out[1]\n",
    "    except FileNotFoundError:\n",
    "        pass\n",
    "    return({'rg':rgs, \"se\":ses})"
   ]
  },
  {
   "cell_type": "code",
   "execution_count": 4,
   "metadata": {},
   "outputs": [],
   "source": [
    "def get_Z(d):\n",
    "    return((1-d['rg'])/ d['se'])"
   ]
  },
  {
   "cell_type": "code",
   "execution_count": 5,
   "metadata": {},
   "outputs": [],
   "source": [
    "traits = list(pd.read_csv(\"/Users/arun/Documents/pricelab/ps_gxe/2023_05_10_tables/data/data_update/traits.txt\", header=None)[0])\n",
    "E_vars = list(pd.read_csv(\"/Users/arun/Documents/pricelab/ps_gxe/2023_05_10_tables/data/data_update/E.txt\", header=None)[0])"
   ]
  },
  {
   "attachments": {},
   "cell_type": "markdown",
   "metadata": {},
   "source": [
    "# Output Z scores for 5 bin and 2 bin tests"
   ]
  },
  {
   "cell_type": "code",
   "execution_count": 6,
   "metadata": {},
   "outputs": [],
   "source": [
    "with open(\"/Users/arun/Documents/pricelab/ps_gxe/2023_05_10_tables/parsed/rg_Z-scores.csv\", 'w') as f:\n",
    "    for t in traits:\n",
    "        for e in E_vars:\n",
    "            print(t, e, get_Z(get_rgs(t, e, 5)), get_Z(get_rgs(t, e, 2)), sep=',', file=f)"
   ]
  },
  {
   "cell_type": "code",
   "execution_count": 7,
   "metadata": {},
   "outputs": [],
   "source": [
    "with open(\"/Users/arun/Documents/pricelab/ps_gxe/2023_05_10_tables/parsed/rg-values.csv\", 'w') as f:\n",
    "    for t in traits:\n",
    "        for e in E_vars:\n",
    "            bin5 = get_rgs(t, e, 5)\n",
    "            bin2 = get_rgs(t, e, 2)\n",
    "            print(t, e, bin5['rg'], bin5['se'], bin2['rg'], bin2['se'], sep=',', file=f)"
   ]
  },
  {
   "cell_type": "code",
   "execution_count": 22,
   "metadata": {},
   "outputs": [],
   "source": [
    "with open(\"/Users/arun/Documents/pricelab/ps_gxe/2023_05_10_tables/parsed/sex_rg_Z-scores.csv\", 'w') as f:\n",
    "    for t in traits:\n",
    "        e='cov_SEX'\n",
    "        print(t, e, get_Z(get_rgs(t, e, 2)), sep=',', file=f)"
   ]
  },
  {
   "cell_type": "code",
   "execution_count": 18,
   "metadata": {},
   "outputs": [],
   "source": [
    "with open(\"/Users/arun/Documents/pricelab/ps_gxe/2023_05_10_tables/parsed/sex_rg_values.csv\", 'w') as f:\n",
    "    for t in traits:\n",
    "        e='cov_SEX'\n",
    "        bin2=get_rgs(t, e, 2)\n",
    "        print(t, e, bin2['rg'], bin2['se'], sep=',', file=f)"
   ]
  }
 ],
 "metadata": {
  "kernelspec": {
   "display_name": "py39",
   "language": "python",
   "name": "python3"
  },
  "language_info": {
   "codemirror_mode": {
    "name": "ipython",
    "version": 3
   },
   "file_extension": ".py",
   "mimetype": "text/x-python",
   "name": "python",
   "nbconvert_exporter": "python",
   "pygments_lexer": "ipython3",
   "version": "3.9.7"
  },
  "orig_nbformat": 4
 },
 "nbformat": 4,
 "nbformat_minor": 2
}
